{
  "cells": [
    {
      "cell_type": "code",
      "source": [
        "import numpy as np\n",
        "import pandas as pd\n",
        "import matplotlib.pyplot as plt\n",
        "\n",
        "from sklearn.preprocessing import LabelEncoder, OneHotEncoder\n",
        "from sklearn.compose import ColumnTransformer\n",
        "from sklearn.impute import SimpleImputer\n",
        "\n",
        "from sklearn.tree import DecisionTreeRegressor"
      ],
      "outputs": [],
      "execution_count": 7,
      "metadata": {
        "execution": {
          "iopub.status.busy": "2021-02-15T21:30:18.348Z",
          "iopub.execute_input": "2021-02-15T21:30:18.352Z",
          "iopub.status.idle": "2021-02-15T21:30:18.359Z",
          "shell.execute_reply": "2021-02-15T21:30:18.363Z"
        }
      },
      "id": "ahead-smile"
    },
    {
      "cell_type": "code",
      "source": [
        "dataset = pd.read_csv('position_salary.csv')\n",
        "X = dataset.iloc[:, 1:-1].values\n",
        "Y = dataset.iloc[:, -1].values"
      ],
      "outputs": [],
      "execution_count": 8,
      "metadata": {
        "execution": {
          "iopub.status.busy": "2021-02-15T21:30:19.303Z",
          "iopub.execute_input": "2021-02-15T21:30:19.308Z",
          "iopub.status.idle": "2021-02-15T21:30:19.315Z",
          "shell.execute_reply": "2021-02-15T21:30:19.319Z"
        }
      },
      "id": "velvet-hazard"
    },
    {
      "cell_type": "code",
      "source": [
        "regressor = DecisionTreeRegressor(random_state=0)\n",
        "regressor.fit(X, Y)\n",
        "regressor.predict([[6.5]])"
      ],
      "outputs": [
        {
          "output_type": "execute_result",
          "execution_count": 9,
          "data": {
            "text/plain": "array([150000.])"
          },
          "metadata": {}
        }
      ],
      "execution_count": 9,
      "metadata": {
        "execution": {
          "iopub.status.busy": "2021-02-15T21:30:20.255Z",
          "iopub.execute_input": "2021-02-15T21:30:20.260Z",
          "iopub.status.idle": "2021-02-15T21:30:20.269Z",
          "shell.execute_reply": "2021-02-15T21:30:20.273Z"
        }
      },
      "id": "affiliated-christmas"
    },
    {
      "cell_type": "code",
      "source": [
        "# wrong algorithm \"overfits\", dataset not appropriate (1D)\n",
        "x_grid = np.arange(min(X), max(X), 0.1)\n",
        "x_grid = x_grid.reshape(-1, 1)\n",
        "\n",
        "plt.scatter(X, Y, color='red')\n",
        "plt.plot(x_grid, regressor.predict(x_grid), color='blue')\n",
        "plt.title('Decision Tree Regression')\n",
        "plt.xlabel('position')\n",
        "plt.ylabel('salary')\n",
        "plt.show()"
      ],
      "outputs": [
        {
          "output_type": "display_data",
          "data": {
            "text/plain": "<Figure size 432x288 with 1 Axes>",
            "image/png": "[encoded data removed]"
          },
          "metadata": {
            "needs_background": "light"
          }
        }
      ],
      "execution_count": 10,
      "metadata": {
        "execution": {
          "iopub.status.busy": "2021-02-15T21:30:21.250Z",
          "iopub.execute_input": "2021-02-15T21:30:21.256Z",
          "iopub.status.idle": "2021-02-15T21:30:21.376Z",
          "shell.execute_reply": "2021-02-15T21:30:21.383Z"
        }
      },
      "id": "dirty-yield"
    },
    {
      "cell_type": "code",
      "source": [
        "# appropriate dataset, multi-dimensional\n",
        "dataset = pd.read_csv('product_sale.csv')\n",
        "X = dataset.iloc[:, :-1].values\n",
        "Y = dataset.iloc[:, -1].values"
      ],
      "outputs": [],
      "execution_count": 11,
      "metadata": {
        "execution": {
          "iopub.status.busy": "2021-02-15T21:30:22.256Z",
          "iopub.execute_input": "2021-02-15T21:30:22.259Z",
          "iopub.status.idle": "2021-02-15T21:30:22.268Z",
          "shell.execute_reply": "2021-02-15T21:30:22.272Z"
        }
      },
      "id": "least-amount"
    },
    {
      "cell_type": "code",
      "source": [
        "label_encoder = LabelEncoder()\n",
        "Y = label_encoder.fit_transform(Y)"
      ],
      "outputs": [],
      "execution_count": 12,
      "metadata": {
        "execution": {
          "iopub.status.busy": "2021-02-15T21:30:23.267Z",
          "iopub.execute_input": "2021-02-15T21:30:23.271Z",
          "iopub.status.idle": "2021-02-15T21:30:23.278Z",
          "shell.execute_reply": "2021-02-15T21:30:23.281Z"
        }
      },
      "id": "possible-creature"
    },
    {
      "cell_type": "code",
      "source": [
        "imputer = SimpleImputer()\n",
        "X[:, 1:3] = imputer.fit_transform(X[:, 1:3])"
      ],
      "outputs": [],
      "execution_count": 13,
      "metadata": {
        "execution": {
          "iopub.status.busy": "2021-02-15T21:30:24.217Z",
          "iopub.execute_input": "2021-02-15T21:30:24.221Z",
          "iopub.status.idle": "2021-02-15T21:30:24.229Z",
          "shell.execute_reply": "2021-02-15T21:30:24.234Z"
        }
      },
      "id": "inside-delicious"
    },
    {
      "cell_type": "code",
      "source": [
        "col_transformer = ColumnTransformer([('Country', OneHotEncoder(), [0])], remainder='passthrough')\n",
        "X = col_transformer.fit_transform(X)\n",
        "X = X[:, 1:] # dummy variable trap"
      ],
      "outputs": [],
      "execution_count": 14,
      "metadata": {
        "execution": {
          "iopub.status.busy": "2021-02-15T21:30:25.234Z",
          "iopub.execute_input": "2021-02-15T21:30:25.238Z",
          "iopub.status.idle": "2021-02-15T21:30:25.245Z",
          "shell.execute_reply": "2021-02-15T21:30:25.250Z"
        }
      },
      "id": "demonstrated-couple"
    },
    {
      "cell_type": "code",
      "source": [
        "regressor = DecisionTreeRegressor(random_state=0)\n",
        "regressor.fit(X, Y)\n",
        "regressor.predict([[1.0, 0.0, 32.0, 53000.0]])"
      ],
      "outputs": [
        {
          "output_type": "execute_result",
          "execution_count": 15,
          "data": {
            "text/plain": "array([0.])"
          },
          "metadata": {}
        }
      ],
      "execution_count": 15,
      "metadata": {
        "execution": {
          "iopub.status.busy": "2021-02-15T21:30:26.330Z",
          "iopub.execute_input": "2021-02-15T21:30:26.335Z",
          "iopub.status.idle": "2021-02-15T21:30:26.344Z",
          "shell.execute_reply": "2021-02-15T21:30:26.348Z"
        }
      },
      "id": "secret-cooler"
    }
  ],
  "metadata": {
    "kernelspec": {
      "display_name": "Python3 (data-sci)",
      "language": "python",
      "name": "data-sci"
    },
    "language_info": {
      "name": "python",
      "version": "3.9.1",
      "mimetype": "text/x-python",
      "codemirror_mode": {
        "name": "ipython",
        "version": 3
      },
      "pygments_lexer": "ipython3",
      "nbconvert_exporter": "python",
      "file_extension": ".py"
    },
    "nteract": {
      "version": "0.28.0"
    }
  },
  "nbformat": 4,
  "nbformat_minor": 5
}